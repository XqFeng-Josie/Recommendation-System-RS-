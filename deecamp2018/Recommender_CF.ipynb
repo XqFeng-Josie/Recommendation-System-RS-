{
 "cells": [
  {
   "cell_type": "markdown",
   "metadata": {},
   "source": [
    "# Recommender  System - CF\n",
    "\n",
    "This notebook introduce the CF pipeline - user-based<br>\n",
    "1. we will compute a user matrix by history record.<br>\n",
    "2. then, give a user recommendation by user-similarity.<br>\n",
    "\n",
    "**note: this function is time-consuming and space-consuming. so we just set a sample**"
   ]
  },
  {
   "cell_type": "markdown",
   "metadata": {},
   "source": [
    "Dataset Info<br>\n",
    "./data/train.txt include 4 columns<br>\n",
    "uid: user ID<br>\n",
    "mid: movie ID<br>\n",
    "timeStamp : record create time<br>\n",
    "star: user mark the movie(scale 1.0 - 5.0)<br>"
   ]
  },
  {
   "cell_type": "code",
   "execution_count": 226,
   "metadata": {},
   "outputs": [
    {
     "name": "stdout",
     "output_type": "stream",
     "text": [
      "4.0    419\n",
      "3.0    315\n",
      "5.0    266\n",
      "Name: star, dtype: int64\n"
     ]
    },
    {
     "data": {
      "text/html": [
       "<div>\n",
       "<style scoped>\n",
       "    .dataframe tbody tr th:only-of-type {\n",
       "        vertical-align: middle;\n",
       "    }\n",
       "\n",
       "    .dataframe tbody tr th {\n",
       "        vertical-align: top;\n",
       "    }\n",
       "\n",
       "    .dataframe thead th {\n",
       "        text-align: right;\n",
       "    }\n",
       "</style>\n",
       "<table border=\"1\" class=\"dataframe\">\n",
       "  <thead>\n",
       "    <tr style=\"text-align: right;\">\n",
       "      <th></th>\n",
       "      <th>uid</th>\n",
       "      <th>mid</th>\n",
       "      <th>timeStamp</th>\n",
       "      <th>star</th>\n",
       "      <th>count</th>\n",
       "    </tr>\n",
       "  </thead>\n",
       "  <tbody>\n",
       "    <tr>\n",
       "      <th>0</th>\n",
       "      <td>1722994</td>\n",
       "      <td>1306505</td>\n",
       "      <td>2007-08-22</td>\n",
       "      <td>5.0</td>\n",
       "      <td>1.0</td>\n",
       "    </tr>\n",
       "    <tr>\n",
       "      <th>1</th>\n",
       "      <td>1405477</td>\n",
       "      <td>10574468</td>\n",
       "      <td>2013-04-24</td>\n",
       "      <td>4.0</td>\n",
       "      <td>1.0</td>\n",
       "    </tr>\n",
       "    <tr>\n",
       "      <th>2</th>\n",
       "      <td>15849871</td>\n",
       "      <td>4910186</td>\n",
       "      <td>2011-12-20</td>\n",
       "      <td>5.0</td>\n",
       "      <td>1.0</td>\n",
       "    </tr>\n",
       "    <tr>\n",
       "      <th>3</th>\n",
       "      <td>1068524</td>\n",
       "      <td>1304643</td>\n",
       "      <td>2006-02-07</td>\n",
       "      <td>3.0</td>\n",
       "      <td>1.0</td>\n",
       "    </tr>\n",
       "    <tr>\n",
       "      <th>4</th>\n",
       "      <td>1307041</td>\n",
       "      <td>1851857</td>\n",
       "      <td>2008-09-22</td>\n",
       "      <td>4.0</td>\n",
       "      <td>1.0</td>\n",
       "    </tr>\n",
       "  </tbody>\n",
       "</table>\n",
       "</div>"
      ],
      "text/plain": [
       "        uid       mid   timeStamp  star  count\n",
       "0   1722994   1306505  2007-08-22   5.0    1.0\n",
       "1   1405477  10574468  2013-04-24   4.0    1.0\n",
       "2  15849871   4910186  2011-12-20   5.0    1.0\n",
       "3   1068524   1304643  2006-02-07   3.0    1.0\n",
       "4   1307041   1851857  2008-09-22   4.0    1.0"
      ]
     },
     "execution_count": 226,
     "metadata": {},
     "output_type": "execute_result"
    }
   ],
   "source": [
    "import sys\n",
    "import pandas as pd\n",
    "from pandas import DataFrame \n",
    "\n",
    "PATH=\"./train.txt\"\n",
    "user_record = pd.read_csv(PATH, sep='\\t',header=0,encoding='gbk')\n",
    "user_record.star = user_record.star.astype(float)\n",
    "print(user_record.star.value_counts())\n",
    "user_record['count']=1. # set count column, means marked by user\n",
    "user_record.head()"
   ]
  },
  {
   "cell_type": "markdown",
   "metadata": {},
   "source": [
    "## create the user-product matrix by history record."
   ]
  },
  {
   "cell_type": "code",
   "execution_count": 227,
   "metadata": {},
   "outputs": [
    {
     "name": "stdout",
     "output_type": "stream",
     "text": [
      "(921, 876)\n"
     ]
    },
    {
     "data": {
      "text/html": [
       "<div>\n",
       "<style scoped>\n",
       "    .dataframe tbody tr th:only-of-type {\n",
       "        vertical-align: middle;\n",
       "    }\n",
       "\n",
       "    .dataframe tbody tr th {\n",
       "        vertical-align: top;\n",
       "    }\n",
       "\n",
       "    .dataframe thead th {\n",
       "        text-align: right;\n",
       "    }\n",
       "</style>\n",
       "<table border=\"1\" class=\"dataframe\">\n",
       "  <thead>\n",
       "    <tr style=\"text-align: right;\">\n",
       "      <th>mid</th>\n",
       "      <th>1291546</th>\n",
       "      <th>1291548</th>\n",
       "      <th>1291549</th>\n",
       "      <th>1291552</th>\n",
       "      <th>1291557</th>\n",
       "      <th>1291560</th>\n",
       "      <th>1291561</th>\n",
       "      <th>1291566</th>\n",
       "      <th>1291569</th>\n",
       "      <th>1291571</th>\n",
       "      <th>...</th>\n",
       "      <th>11587489</th>\n",
       "      <th>11620863</th>\n",
       "      <th>13939691</th>\n",
       "      <th>19955821</th>\n",
       "      <th>19961360</th>\n",
       "      <th>19962285</th>\n",
       "      <th>20378817</th>\n",
       "      <th>20395646</th>\n",
       "      <th>20451283</th>\n",
       "      <th>23090008</th>\n",
       "    </tr>\n",
       "    <tr>\n",
       "      <th>uid</th>\n",
       "      <th></th>\n",
       "      <th></th>\n",
       "      <th></th>\n",
       "      <th></th>\n",
       "      <th></th>\n",
       "      <th></th>\n",
       "      <th></th>\n",
       "      <th></th>\n",
       "      <th></th>\n",
       "      <th></th>\n",
       "      <th></th>\n",
       "      <th></th>\n",
       "      <th></th>\n",
       "      <th></th>\n",
       "      <th></th>\n",
       "      <th></th>\n",
       "      <th></th>\n",
       "      <th></th>\n",
       "      <th></th>\n",
       "      <th></th>\n",
       "      <th></th>\n",
       "    </tr>\n",
       "  </thead>\n",
       "  <tbody>\n",
       "    <tr>\n",
       "      <th>1000226</th>\n",
       "      <td>0</td>\n",
       "      <td>0</td>\n",
       "      <td>0</td>\n",
       "      <td>0</td>\n",
       "      <td>0</td>\n",
       "      <td>0</td>\n",
       "      <td>0</td>\n",
       "      <td>0</td>\n",
       "      <td>0</td>\n",
       "      <td>0</td>\n",
       "      <td>...</td>\n",
       "      <td>0</td>\n",
       "      <td>0</td>\n",
       "      <td>0</td>\n",
       "      <td>0</td>\n",
       "      <td>0</td>\n",
       "      <td>0</td>\n",
       "      <td>0</td>\n",
       "      <td>0</td>\n",
       "      <td>0</td>\n",
       "      <td>0</td>\n",
       "    </tr>\n",
       "    <tr>\n",
       "      <th>1000232</th>\n",
       "      <td>0</td>\n",
       "      <td>0</td>\n",
       "      <td>0</td>\n",
       "      <td>0</td>\n",
       "      <td>0</td>\n",
       "      <td>0</td>\n",
       "      <td>0</td>\n",
       "      <td>0</td>\n",
       "      <td>0</td>\n",
       "      <td>0</td>\n",
       "      <td>...</td>\n",
       "      <td>0</td>\n",
       "      <td>0</td>\n",
       "      <td>0</td>\n",
       "      <td>0</td>\n",
       "      <td>0</td>\n",
       "      <td>0</td>\n",
       "      <td>0</td>\n",
       "      <td>0</td>\n",
       "      <td>0</td>\n",
       "      <td>0</td>\n",
       "    </tr>\n",
       "  </tbody>\n",
       "</table>\n",
       "<p>2 rows × 876 columns</p>\n",
       "</div>"
      ],
      "text/plain": [
       "mid      1291546   1291548   1291549   1291552   1291557   1291560   1291561   \\\n",
       "uid                                                                             \n",
       "1000226         0         0         0         0         0         0         0   \n",
       "1000232         0         0         0         0         0         0         0   \n",
       "\n",
       "mid      1291566   1291569   1291571   ...  11587489  11620863  13939691  \\\n",
       "uid                                    ...                                 \n",
       "1000226         0         0         0  ...         0         0         0   \n",
       "1000232         0         0         0  ...         0         0         0   \n",
       "\n",
       "mid      19955821  19961360  19962285  20378817  20395646  20451283  23090008  \n",
       "uid                                                                            \n",
       "1000226         0         0         0         0         0         0         0  \n",
       "1000232         0         0         0         0         0         0         0  \n",
       "\n",
       "[2 rows x 876 columns]"
      ]
     },
     "execution_count": 227,
     "metadata": {},
     "output_type": "execute_result"
    }
   ],
   "source": [
    "sell_pivot = user_record.pivot_table(values='star',index='uid',columns='mid',aggfunc=sum,fill_value=0)\n",
    "print(sell_pivot.shape)\n",
    "sell_pivot.head(2)"
   ]
  },
  {
   "cell_type": "code",
   "execution_count": 228,
   "metadata": {},
   "outputs": [],
   "source": [
    "# define some function to calculate the distance of user's similarity \n",
    "import numpy as np\n",
    "def euclidea_sim(x,y):\n",
    "    assert len(x) == len(y)\n",
    "    dis = np.linalg.norm(x-y)\n",
    "    sim = 1/(1+dis)\n",
    "    return sim\n",
    "\n",
    "def jaccard_sim(x,y):\n",
    "    assert len(x) == len(y)\n",
    "    x,y = np.array(x).astype(bool),np,array(y).astype(bool)\n",
    "    return sum(x*y)/sum(x+y)\n",
    "\n",
    "def cosine_sim(x,y):\n",
    "    assert len(x) == len(y)\n",
    "    sum_x_y = np.dot(x,y)\n",
    "    return sum_x_y/np.linalg.norm(x)/np.linalg.norm(y)"
   ]
  },
  {
   "cell_type": "code",
   "execution_count": 229,
   "metadata": {},
   "outputs": [],
   "source": [
    "# compute the user matrix, dimension is user*user\n",
    "def sim_mat(sell_group,sim=euclidea_sim):\n",
    "    sim_matrix = np.zeros((sell_group.shape[0],sell_group.shape[0]),dtype=float)\n",
    "    sim_matrix = DataFrame(sim_matrix,index=sell_group.index,columns=sell_group.index)\n",
    "    print(sim_matrix.shape)\n",
    "    for index in sell_group.index:\n",
    "        for column in sell_group.index:\n",
    "            sim_matrix.loc[index,column] = sim(sell_group.loc[index,:],sell_group.loc[column,:])\n",
    "    return sim_matrix\n",
    "\n",
    "# give a user recommendation by user-similarity.\n",
    "def recommendation(sim_mat,customer,n_sim_customer,n_product,sell_record):\n",
    "    '''\n",
    "    paramer:\n",
    "    sim_mat:matrix of user-similarity\n",
    "    customer: the user we need to recommend\n",
    "    n_sim_customer: select some similar users\n",
    "    n_product: how many products we want to recommend\n",
    "    sell_record: the user-product list: the row : user, the column: product,\n",
    "                 if user buy the product, the value will be set 1.0 otherwise set 0.0\n",
    "    '''\n",
    "    try:\n",
    "        k_similar = sim_mat.sort_values(customer,axis=0,ascending=False)[:n_sim_customer]\n",
    "    except:\n",
    "        print('This user never purchases the item, we can introduce a hot one.') \n",
    "        return\n",
    "        \n",
    "    # 找到k个相似用户购买的所有产品\n",
    "    # find product-lists of k-similar-user\n",
    "    recom_product = sell_record.loc[k_similar.index,:].astype(bool).sum(axis=0)\n",
    "    recom_product = recom_product[recom_product>0].sort_values(axis=0,ascending=False).index\n",
    "    count_ = 0\n",
    "    recom_list = []\n",
    "    for i in recom_product:\n",
    "        # the product has beed bought before, we shouldn't recommend again.\n",
    "        if sell_record[i][customer] > 0:\n",
    "            continue\n",
    "        else:\n",
    "            recom_list.append(i)\n",
    "            count_ += 1\n",
    "        if count_ >= n_product:\n",
    "            break\n",
    "    if len(recom_list) > 0:\n",
    "        print(\"The recommended items are：\",\"/\".join([str(r) for r in recom_list]))\n",
    "    else:\n",
    "        print('There is no product to be recommended, we can introduce a hot one.')"
   ]
  },
  {
   "cell_type": "markdown",
   "metadata": {},
   "source": [
    "## calculate the user-similarity matrix"
   ]
  },
  {
   "cell_type": "code",
   "execution_count": 214,
   "metadata": {},
   "outputs": [
    {
     "name": "stdout",
     "output_type": "stream",
     "text": [
      "(921, 921)\n"
     ]
    }
   ],
   "source": [
    "sim = sim_mat(sell_pivot)\n",
    "print(sim.shape)"
   ]
  },
  {
   "cell_type": "markdown",
   "metadata": {},
   "source": [
    "## recommendation by user-similarity matrix"
   ]
  },
  {
   "cell_type": "code",
   "execution_count": 221,
   "metadata": {},
   "outputs": [
    {
     "name": "stdout",
     "output_type": "stream",
     "text": [
      "There is no product to be recommended, we can introduce a hot one.\n",
      "The recommended items are： 1295280\n",
      "This user never purchases the item, we can introduce a hot one.\n"
     ]
    }
   ],
   "source": [
    "recommendation(sim,1000226,2,2,sell_pivot)\n",
    "recommendation(sim,19556493,2,2,sell_pivot)\n",
    "recommendation(sim,1291552,2,2,sell_pivot)"
   ]
  },
  {
   "cell_type": "code",
   "execution_count": null,
   "metadata": {},
   "outputs": [],
   "source": []
  }
 ],
 "metadata": {
  "kernelspec": {
   "display_name": "Python 3",
   "language": "python",
   "name": "python3"
  },
  "language_info": {
   "codemirror_mode": {
    "name": "ipython",
    "version": 3
   },
   "file_extension": ".py",
   "mimetype": "text/x-python",
   "name": "python",
   "nbconvert_exporter": "python",
   "pygments_lexer": "ipython3",
   "version": "3.7.6"
  }
 },
 "nbformat": 4,
 "nbformat_minor": 2
}
